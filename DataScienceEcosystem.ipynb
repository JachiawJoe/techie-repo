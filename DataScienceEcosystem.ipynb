{
 "cells": [
  {
   "cell_type": "markdown",
   "id": "415365c6",
   "metadata": {},
   "source": [
    "# Data Science Tools and Ecosystem"
   ]
  },
  {
   "cell_type": "markdown",
   "id": "9e1cd7aa",
   "metadata": {},
   "source": [
    "# In this notebook, Data Science Tools and Ecosystem are summarized"
   ]
  },
  {
   "cell_type": "markdown",
   "id": "65f0627a",
   "metadata": {},
   "source": [
    "# Some of the popular languages that data scientists use are:\n",
    "1. Python\n",
    "2. R\n",
    "3. JavaScript\n",
    "4. SQL"
   ]
  },
  {
   "cell_type": "markdown",
   "id": "570e02fe",
   "metadata": {},
   "source": [
    "# Some of the commonly used libraries used by Data Scientists include:\n",
    "1. Tensorflow\n",
    "2. Matplolib\n",
    "3. Pandas\n",
    "4. SciPy\n",
    "5. Numpy"
   ]
  },
  {
   "cell_type": "markdown",
   "id": "2b43bc8a",
   "metadata": {},
   "source": [
    "# Data Science Tools\n",
    "|Data Science Tols|\n",
    "|-----------------|\n",
    "|1. RStudio|\n",
    "|2. Apache Spark|\n",
    "|3. Hadoop|\n",
    "|4. Tensorflow|"
   ]
  },
  {
   "cell_type": "markdown",
   "id": "72ede7c9",
   "metadata": {},
   "source": [
    "# Evaluating Arithmetic Expressions in Python\n",
    " \n",
    " "
   ]
  },
  {
   "cell_type": "code",
   "execution_count": 1,
   "id": "39f0fd05",
   "metadata": {},
   "outputs": [
    {
     "data": {
      "text/plain": [
       "17"
      ]
     },
     "execution_count": 1,
     "metadata": {},
     "output_type": "execute_result"
    }
   ],
   "source": [
    "# Arithmetic Expression to Multiply then Add\n",
    "(3*4) + 5\n"
   ]
  },
  {
   "cell_type": "code",
   "execution_count": 2,
   "id": "0bad8e62",
   "metadata": {},
   "outputs": [
    {
     "data": {
      "text/plain": [
       "3.3333333333333335"
      ]
     },
     "execution_count": 2,
     "metadata": {},
     "output_type": "execute_result"
    }
   ],
   "source": [
    "#Converting 200 minutes to hours\n",
    "200/60"
   ]
  },
  {
   "cell_type": "markdown",
   "id": "7d910de6",
   "metadata": {},
   "source": [
    "# Objectives\n",
    "- State the popular languages for data science.\n",
    "- Multiply and add numbers.\n",
    "- Convert minutes to hours.\n",
    "- List some of the commonly used libraries used by data scientist.\n",
    "- LIst some open source tools used in data science."
   ]
  },
  {
   "cell_type": "markdown",
   "id": "ceabcc86",
   "metadata": {},
   "source": [
    "## Author: Joseph Owusu Achiaw"
   ]
  },
  {
   "cell_type": "code",
   "execution_count": null,
   "id": "6faf08a7",
   "metadata": {},
   "outputs": [],
   "source": []
  }
 ],
 "metadata": {
  "kernelspec": {
   "display_name": "Python 3 (ipykernel)",
   "language": "python",
   "name": "python3"
  },
  "language_info": {
   "codemirror_mode": {
    "name": "ipython",
    "version": 3
   },
   "file_extension": ".py",
   "mimetype": "text/x-python",
   "name": "python",
   "nbconvert_exporter": "python",
   "pygments_lexer": "ipython3",
   "version": "3.11.3"
  }
 },
 "nbformat": 4,
 "nbformat_minor": 5
}
